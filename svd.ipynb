{
 "cells": [
  {
   "cell_type": "code",
   "execution_count": null,
   "metadata": {},
   "outputs": [],
   "source": [
    "%matplotlib inline\n",
    "import sklearn\n",
    "import pandas as pd\n",
    "from sklearn.model_selection import train_test_split\n",
    "import numpy as np\n",
    "import time\n",
    "from sklearn.externals import joblib\n",
    "import sklearn_recommender as skr\n",
    "from sklearn.decomposition import TruncatedSVD"
   ]
  },
  {
   "cell_type": "code",
   "execution_count": 2,
   "metadata": {},
   "outputs": [
    {
     "data": {
      "text/html": [
       "<div>\n",
       "<style scoped>\n",
       "    .dataframe tbody tr th:only-of-type {\n",
       "        vertical-align: middle;\n",
       "    }\n",
       "\n",
       "    .dataframe tbody tr th {\n",
       "        vertical-align: top;\n",
       "    }\n",
       "\n",
       "    .dataframe thead th {\n",
       "        text-align: right;\n",
       "    }\n",
       "</style>\n",
       "<table border=\"1\" class=\"dataframe\">\n",
       "  <thead>\n",
       "    <tr style=\"text-align: right;\">\n",
       "      <th></th>\n",
       "      <th>user_id</th>\n",
       "      <th>anime_id</th>\n",
       "      <th>rating_x</th>\n",
       "      <th>name</th>\n",
       "    </tr>\n",
       "  </thead>\n",
       "  <tbody>\n",
       "    <tr>\n",
       "      <th>0</th>\n",
       "      <td>1</td>\n",
       "      <td>20</td>\n",
       "      <td>0</td>\n",
       "      <td>Naruto</td>\n",
       "    </tr>\n",
       "    <tr>\n",
       "      <th>1</th>\n",
       "      <td>3</td>\n",
       "      <td>20</td>\n",
       "      <td>8</td>\n",
       "      <td>Naruto</td>\n",
       "    </tr>\n",
       "    <tr>\n",
       "      <th>2</th>\n",
       "      <td>5</td>\n",
       "      <td>20</td>\n",
       "      <td>6</td>\n",
       "      <td>Naruto</td>\n",
       "    </tr>\n",
       "    <tr>\n",
       "      <th>3</th>\n",
       "      <td>6</td>\n",
       "      <td>20</td>\n",
       "      <td>0</td>\n",
       "      <td>Naruto</td>\n",
       "    </tr>\n",
       "    <tr>\n",
       "      <th>4</th>\n",
       "      <td>10</td>\n",
       "      <td>20</td>\n",
       "      <td>0</td>\n",
       "      <td>Naruto</td>\n",
       "    </tr>\n",
       "  </tbody>\n",
       "</table>\n",
       "</div>"
      ],
      "text/plain": [
       "   user_id  anime_id  rating_x    name\n",
       "0        1        20         0  Naruto\n",
       "1        3        20         8  Naruto\n",
       "2        5        20         6  Naruto\n",
       "3        6        20         0  Naruto\n",
       "4       10        20         0  Naruto"
      ]
     },
     "execution_count": 2,
     "metadata": {},
     "output_type": "execute_result"
    }
   ],
   "source": [
    "anime_csv='/home/bruce/Anime_ratings/datasets_571_1094_anime.csv'\n",
    "users_rating='/home/bruce/Anime_ratings/rating.csv'\n",
    "\n",
    "\n",
    "df_1 = pd.read_csv(anime_csv)\n",
    "df_2 = pd.read_csv(users_rating)\n",
    "\n",
    "\n",
    "\n",
    "\n",
    "\n",
    "#Merge the two dataframes above to create input dataframe for recommender systems\n",
    "df = pd.merge(df_2, df_1, on=\"anime_id\")\n",
    "df=df.drop(['genre','type','episodes','rating_y','members'],axis=1)\n",
    "df.head()"
   ]
  },
  {
   "cell_type": "code",
   "execution_count": 3,
   "metadata": {},
   "outputs": [
    {
     "data": {
      "text/plain": [
       "array([[<matplotlib.axes._subplots.AxesSubplot object at 0x7fec2f1566a0>,\n",
       "        <matplotlib.axes._subplots.AxesSubplot object at 0x7fec2d0af978>],\n",
       "       [<matplotlib.axes._subplots.AxesSubplot object at 0x7fec2d0e0be0>,\n",
       "        <matplotlib.axes._subplots.AxesSubplot object at 0x7fec2d093e48>]],\n",
       "      dtype=object)"
      ]
     },
     "execution_count": 3,
     "metadata": {},
     "output_type": "execute_result"
    },
    {
     "data": {
      "image/png": "[encoded data removed]",
      "text/plain": [
       "<Figure size 432x288 with 4 Axes>"
      ]
     },
     "metadata": {
      "needs_background": "light"
     },
     "output_type": "display_data"
    }
   ],
   "source": [
    "df.hist()"
   ]
  },
  {
   "cell_type": "code",
   "execution_count": 4,
   "metadata": {},
   "outputs": [
    {
     "data": {
      "text/html": [
       "<div>\n",
       "<style scoped>\n",
       "    .dataframe tbody tr th:only-of-type {\n",
       "        vertical-align: middle;\n",
       "    }\n",
       "\n",
       "    .dataframe tbody tr th {\n",
       "        vertical-align: top;\n",
       "    }\n",
       "\n",
       "    .dataframe thead th {\n",
       "        text-align: right;\n",
       "    }\n",
       "</style>\n",
       "<table border=\"1\" class=\"dataframe\">\n",
       "  <thead>\n",
       "    <tr style=\"text-align: right;\">\n",
       "      <th></th>\n",
       "      <th>name</th>\n",
       "      <th>rating_count</th>\n",
       "    </tr>\n",
       "  </thead>\n",
       "  <tbody>\n",
       "    <tr>\n",
       "      <th>0</th>\n",
       "      <td>&amp;quot;0&amp;quot;</td>\n",
       "      <td>26</td>\n",
       "    </tr>\n",
       "    <tr>\n",
       "      <th>1</th>\n",
       "      <td>&amp;quot;Aesop&amp;quot; no Ohanashi yori: Ushi to Ka...</td>\n",
       "      <td>2</td>\n",
       "    </tr>\n",
       "    <tr>\n",
       "      <th>2</th>\n",
       "      <td>&amp;quot;Bungaku Shoujo&amp;quot; Kyou no Oyatsu: Hat...</td>\n",
       "      <td>782</td>\n",
       "    </tr>\n",
       "    <tr>\n",
       "      <th>3</th>\n",
       "      <td>&amp;quot;Bungaku Shoujo&amp;quot; Memoire</td>\n",
       "      <td>809</td>\n",
       "    </tr>\n",
       "    <tr>\n",
       "      <th>4</th>\n",
       "      <td>&amp;quot;Bungaku Shoujo&amp;quot; Movie</td>\n",
       "      <td>1535</td>\n",
       "    </tr>\n",
       "  </tbody>\n",
       "</table>\n",
       "</div>"
      ],
      "text/plain": [
       "                                                name  rating_count\n",
       "0                                      &quot;0&quot;            26\n",
       "1  &quot;Aesop&quot; no Ohanashi yori: Ushi to Ka...             2\n",
       "2  &quot;Bungaku Shoujo&quot; Kyou no Oyatsu: Hat...           782\n",
       "3                 &quot;Bungaku Shoujo&quot; Memoire           809\n",
       "4                   &quot;Bungaku Shoujo&quot; Movie          1535"
      ]
     },
     "execution_count": 4,
     "metadata": {},
     "output_type": "execute_result"
    }
   ],
   "source": [
    "# df=df.dropna(axis=0,subset=['name'])\n",
    "rating_count=(df.groupby(by=['name'])['rating_x'].count().reset_index().rename(columns={'rating_x':'rating_count'})[['name','rating_count']])\n",
    "rating_count.head()"
   ]
  },
  {
   "cell_type": "code",
   "execution_count": 5,
   "metadata": {},
   "outputs": [
    {
     "data": {
      "text/html": [
       "<div>\n",
       "<style scoped>\n",
       "    .dataframe tbody tr th:only-of-type {\n",
       "        vertical-align: middle;\n",
       "    }\n",
       "\n",
       "    .dataframe tbody tr th {\n",
       "        vertical-align: top;\n",
       "    }\n",
       "\n",
       "    .dataframe thead th {\n",
       "        text-align: right;\n",
       "    }\n",
       "</style>\n",
       "<table border=\"1\" class=\"dataframe\">\n",
       "  <thead>\n",
       "    <tr style=\"text-align: right;\">\n",
       "      <th></th>\n",
       "      <th>user_id</th>\n",
       "      <th>anime_id</th>\n",
       "      <th>rating_x</th>\n",
       "      <th>name</th>\n",
       "      <th>rating_count</th>\n",
       "    </tr>\n",
       "  </thead>\n",
       "  <tbody>\n",
       "    <tr>\n",
       "      <th>0</th>\n",
       "      <td>1</td>\n",
       "      <td>20</td>\n",
       "      <td>0</td>\n",
       "      <td>Naruto</td>\n",
       "      <td>25925</td>\n",
       "    </tr>\n",
       "    <tr>\n",
       "      <th>1</th>\n",
       "      <td>3</td>\n",
       "      <td>20</td>\n",
       "      <td>8</td>\n",
       "      <td>Naruto</td>\n",
       "      <td>25925</td>\n",
       "    </tr>\n",
       "    <tr>\n",
       "      <th>2</th>\n",
       "      <td>5</td>\n",
       "      <td>20</td>\n",
       "      <td>6</td>\n",
       "      <td>Naruto</td>\n",
       "      <td>25925</td>\n",
       "    </tr>\n",
       "    <tr>\n",
       "      <th>3</th>\n",
       "      <td>6</td>\n",
       "      <td>20</td>\n",
       "      <td>0</td>\n",
       "      <td>Naruto</td>\n",
       "      <td>25925</td>\n",
       "    </tr>\n",
       "    <tr>\n",
       "      <th>4</th>\n",
       "      <td>10</td>\n",
       "      <td>20</td>\n",
       "      <td>0</td>\n",
       "      <td>Naruto</td>\n",
       "      <td>25925</td>\n",
       "    </tr>\n",
       "  </tbody>\n",
       "</table>\n",
       "</div>"
      ],
      "text/plain": [
       "   user_id  anime_id  rating_x    name  rating_count\n",
       "0        1        20         0  Naruto         25925\n",
       "1        3        20         8  Naruto         25925\n",
       "2        5        20         6  Naruto         25925\n",
       "3        6        20         0  Naruto         25925\n",
       "4       10        20         0  Naruto         25925"
      ]
     },
     "execution_count": 5,
     "metadata": {},
     "output_type": "execute_result"
    }
   ],
   "source": [
    "combinedtr=df.merge(rating_count, left_on = 'name', right_on = 'name', how = 'left')\n",
    "combinedtr.head()"
   ]
  },
  {
   "cell_type": "code",
   "execution_count": 6,
   "metadata": {},
   "outputs": [
    {
     "name": "stdout",
     "output_type": "stream",
     "text": [
      "count    11196.000000\n",
      "mean       697.903448\n",
      "std       2028.947568\n",
      "min          1.000000\n",
      "25%          5.000000\n",
      "50%         52.000000\n",
      "75%        386.250000\n",
      "max      39340.000000\n",
      "Name: rating_count, dtype: float64\n"
     ]
    }
   ],
   "source": [
    "print(rating_count['rating_count'].describe())"
   ]
  },
  {
   "cell_type": "code",
   "execution_count": 7,
   "metadata": {},
   "outputs": [
    {
     "name": "stdout",
     "output_type": "stream",
     "text": [
      "0.90    1814.50\n",
      "0.91    2063.45\n",
      "0.92    2377.40\n",
      "0.93    2739.40\n",
      "0.94    3180.30\n",
      "0.95    3697.25\n",
      "0.96    4411.20\n",
      "0.97    5390.45\n",
      "0.98    7006.80\n",
      "0.99    9970.75\n",
      "Name: rating_count, dtype: float64\n"
     ]
    }
   ],
   "source": [
    "print(rating_count['rating_count'].quantile(np.arange(.9, 1, .01))) \n"
   ]
  },
  {
   "cell_type": "code",
   "execution_count": 8,
   "metadata": {},
   "outputs": [
    {
     "name": "stdout",
     "output_type": "stream",
     "text": [
      "<class 'pandas.core.frame.DataFrame'>\n",
      "Int64Index: 2248684 entries, 0 to 5985025\n",
      "Data columns (total 5 columns):\n",
      " #   Column        Dtype \n",
      "---  ------        ----- \n",
      " 0   user_id       int64 \n",
      " 1   anime_id      int64 \n",
      " 2   rating_x      int64 \n",
      " 3   name          object\n",
      " 4   rating_count  int64 \n",
      "dtypes: int64(4), object(1)\n",
      "memory usage: 102.9+ MB\n"
     ]
    }
   ],
   "source": [
    "popularity_threshold = 8000\n",
    "popular_ratings= combinedtr.query('rating_count >= @popularity_threshold')\n",
    "popular_ratings.tail()\n",
    "popular_ratings.info()"
   ]
  },
  {
   "cell_type": "code",
   "execution_count": 9,
   "metadata": {},
   "outputs": [
    {
     "data": {
      "text/html": [
       "<div>\n",
       "<style scoped>\n",
       "    .dataframe tbody tr th:only-of-type {\n",
       "        vertical-align: middle;\n",
       "    }\n",
       "\n",
       "    .dataframe tbody tr th {\n",
       "        vertical-align: top;\n",
       "    }\n",
       "\n",
       "    .dataframe thead th {\n",
       "        text-align: right;\n",
       "    }\n",
       "</style>\n",
       "<table border=\"1\" class=\"dataframe\">\n",
       "  <thead>\n",
       "    <tr style=\"text-align: right;\">\n",
       "      <th></th>\n",
       "      <th>user_id</th>\n",
       "      <th>anime_id</th>\n",
       "      <th>rating_x</th>\n",
       "      <th>name</th>\n",
       "      <th>rating_count</th>\n",
       "    </tr>\n",
       "  </thead>\n",
       "  <tbody>\n",
       "    <tr>\n",
       "      <th>0</th>\n",
       "      <td>1</td>\n",
       "      <td>20</td>\n",
       "      <td>0</td>\n",
       "      <td>Naruto</td>\n",
       "      <td>25925</td>\n",
       "    </tr>\n",
       "    <tr>\n",
       "      <th>1</th>\n",
       "      <td>3</td>\n",
       "      <td>20</td>\n",
       "      <td>8</td>\n",
       "      <td>Naruto</td>\n",
       "      <td>25925</td>\n",
       "    </tr>\n",
       "    <tr>\n",
       "      <th>2</th>\n",
       "      <td>5</td>\n",
       "      <td>20</td>\n",
       "      <td>6</td>\n",
       "      <td>Naruto</td>\n",
       "      <td>25925</td>\n",
       "    </tr>\n",
       "    <tr>\n",
       "      <th>3</th>\n",
       "      <td>6</td>\n",
       "      <td>20</td>\n",
       "      <td>0</td>\n",
       "      <td>Naruto</td>\n",
       "      <td>25925</td>\n",
       "    </tr>\n",
       "    <tr>\n",
       "      <th>4</th>\n",
       "      <td>10</td>\n",
       "      <td>20</td>\n",
       "      <td>0</td>\n",
       "      <td>Naruto</td>\n",
       "      <td>25925</td>\n",
       "    </tr>\n",
       "    <tr>\n",
       "      <th>...</th>\n",
       "      <td>...</td>\n",
       "      <td>...</td>\n",
       "      <td>...</td>\n",
       "      <td>...</td>\n",
       "      <td>...</td>\n",
       "    </tr>\n",
       "    <tr>\n",
       "      <th>5985021</th>\n",
       "      <td>73499</td>\n",
       "      <td>101</td>\n",
       "      <td>9</td>\n",
       "      <td>Air</td>\n",
       "      <td>8820</td>\n",
       "    </tr>\n",
       "    <tr>\n",
       "      <th>5985022</th>\n",
       "      <td>73502</td>\n",
       "      <td>101</td>\n",
       "      <td>9</td>\n",
       "      <td>Air</td>\n",
       "      <td>8820</td>\n",
       "    </tr>\n",
       "    <tr>\n",
       "      <th>5985023</th>\n",
       "      <td>73504</td>\n",
       "      <td>101</td>\n",
       "      <td>8</td>\n",
       "      <td>Air</td>\n",
       "      <td>8820</td>\n",
       "    </tr>\n",
       "    <tr>\n",
       "      <th>5985024</th>\n",
       "      <td>73512</td>\n",
       "      <td>101</td>\n",
       "      <td>10</td>\n",
       "      <td>Air</td>\n",
       "      <td>8820</td>\n",
       "    </tr>\n",
       "    <tr>\n",
       "      <th>5985025</th>\n",
       "      <td>73513</td>\n",
       "      <td>101</td>\n",
       "      <td>8</td>\n",
       "      <td>Air</td>\n",
       "      <td>8820</td>\n",
       "    </tr>\n",
       "  </tbody>\n",
       "</table>\n",
       "<p>2248684 rows × 5 columns</p>\n",
       "</div>"
      ],
      "text/plain": [
       "         user_id  anime_id  rating_x    name  rating_count\n",
       "0              1        20         0  Naruto         25925\n",
       "1              3        20         8  Naruto         25925\n",
       "2              5        20         6  Naruto         25925\n",
       "3              6        20         0  Naruto         25925\n",
       "4             10        20         0  Naruto         25925\n",
       "...          ...       ...       ...     ...           ...\n",
       "5985021    73499       101         9     Air          8820\n",
       "5985022    73502       101         9     Air          8820\n",
       "5985023    73504       101         8     Air          8820\n",
       "5985024    73512       101        10     Air          8820\n",
       "5985025    73513       101         8     Air          8820\n",
       "\n",
       "[2248684 rows x 5 columns]"
      ]
     },
     "execution_count": 9,
     "metadata": {},
     "output_type": "execute_result"
    }
   ],
   "source": [
    "popular_ratings"
   ]
  },
  {
   "cell_type": "code",
   "execution_count": 10,
   "metadata": {},
   "outputs": [
    {
     "name": "stdout",
     "output_type": "stream",
     "text": [
      "(2248677, 5)\n"
     ]
    }
   ],
   "source": [
    "popular_ratings = popular_ratings.drop_duplicates(['user_id', 'name'])\n",
    "print(popular_ratings.shape)"
   ]
  },
  {
   "cell_type": "code",
   "execution_count": 11,
   "metadata": {},
   "outputs": [
    {
     "data": {
      "text/plain": [
       "(71666, 172)"
      ]
     },
     "execution_count": 11,
     "metadata": {},
     "output_type": "execute_result"
    }
   ],
   "source": [
    "pivottable=popular_ratings.pivot(index='user_id',columns='name',values='rating_x')\n",
    "pivottable.shape"
   ]
  },
  {
   "cell_type": "code",
   "execution_count": 12,
   "metadata": {},
   "outputs": [
    {
     "data": {
      "text/html": [
       "<div>\n",
       "<style scoped>\n",
       "    .dataframe tbody tr th:only-of-type {\n",
       "        vertical-align: middle;\n",
       "    }\n",
       "\n",
       "    .dataframe tbody tr th {\n",
       "        vertical-align: top;\n",
       "    }\n",
       "\n",
       "    .dataframe thead th {\n",
       "        text-align: right;\n",
       "    }\n",
       "</style>\n",
       "<table border=\"1\" class=\"dataframe\">\n",
       "  <thead>\n",
       "    <tr style=\"text-align: right;\">\n",
       "      <th>name</th>\n",
       "      <th>Accel World</th>\n",
       "      <th>Air</th>\n",
       "      <th>Air Gear</th>\n",
       "      <th>Akame ga Kill!</th>\n",
       "      <th>Akira</th>\n",
       "      <th>Angel Beats!</th>\n",
       "      <th>Ano Hi Mita Hana no Namae wo Bokutachi wa Mada Shiranai.</th>\n",
       "      <th>Another</th>\n",
       "      <th>Ao no Exorcist</th>\n",
       "      <th>B Gata H Kei</th>\n",
       "      <th>...</th>\n",
       "      <th>Toradora!</th>\n",
       "      <th>Trigun</th>\n",
       "      <th>Vampire Knight</th>\n",
       "      <th>Vampire Knight Guilty</th>\n",
       "      <th>Watashi ga Motenai no wa Dou Kangaetemo Omaera ga Warui!</th>\n",
       "      <th>Yahari Ore no Seishun Love Comedy wa Machigatteiru.</th>\n",
       "      <th>Zankyou no Terror</th>\n",
       "      <th>Zero no Tsukaima</th>\n",
       "      <th>Zero no Tsukaima: Futatsuki no Kishi</th>\n",
       "      <th>Zero no Tsukaima: Princesses no Rondo</th>\n",
       "    </tr>\n",
       "    <tr>\n",
       "      <th>user_id</th>\n",
       "      <th></th>\n",
       "      <th></th>\n",
       "      <th></th>\n",
       "      <th></th>\n",
       "      <th></th>\n",
       "      <th></th>\n",
       "      <th></th>\n",
       "      <th></th>\n",
       "      <th></th>\n",
       "      <th></th>\n",
       "      <th></th>\n",
       "      <th></th>\n",
       "      <th></th>\n",
       "      <th></th>\n",
       "      <th></th>\n",
       "      <th></th>\n",
       "      <th></th>\n",
       "      <th></th>\n",
       "      <th></th>\n",
       "      <th></th>\n",
       "      <th></th>\n",
       "    </tr>\n",
       "  </thead>\n",
       "  <tbody>\n",
       "    <tr>\n",
       "      <th>1</th>\n",
       "      <td>0.0</td>\n",
       "      <td>NaN</td>\n",
       "      <td>NaN</td>\n",
       "      <td>0.0</td>\n",
       "      <td>NaN</td>\n",
       "      <td>0.0</td>\n",
       "      <td>NaN</td>\n",
       "      <td>NaN</td>\n",
       "      <td>0.0</td>\n",
       "      <td>NaN</td>\n",
       "      <td>...</td>\n",
       "      <td>0.0</td>\n",
       "      <td>NaN</td>\n",
       "      <td>NaN</td>\n",
       "      <td>NaN</td>\n",
       "      <td>NaN</td>\n",
       "      <td>0.0</td>\n",
       "      <td>NaN</td>\n",
       "      <td>NaN</td>\n",
       "      <td>NaN</td>\n",
       "      <td>NaN</td>\n",
       "    </tr>\n",
       "    <tr>\n",
       "      <th>2</th>\n",
       "      <td>NaN</td>\n",
       "      <td>NaN</td>\n",
       "      <td>NaN</td>\n",
       "      <td>NaN</td>\n",
       "      <td>NaN</td>\n",
       "      <td>NaN</td>\n",
       "      <td>NaN</td>\n",
       "      <td>NaN</td>\n",
       "      <td>NaN</td>\n",
       "      <td>NaN</td>\n",
       "      <td>...</td>\n",
       "      <td>NaN</td>\n",
       "      <td>NaN</td>\n",
       "      <td>NaN</td>\n",
       "      <td>NaN</td>\n",
       "      <td>NaN</td>\n",
       "      <td>NaN</td>\n",
       "      <td>NaN</td>\n",
       "      <td>NaN</td>\n",
       "      <td>NaN</td>\n",
       "      <td>NaN</td>\n",
       "    </tr>\n",
       "    <tr>\n",
       "      <th>3</th>\n",
       "      <td>7.0</td>\n",
       "      <td>NaN</td>\n",
       "      <td>NaN</td>\n",
       "      <td>8.0</td>\n",
       "      <td>NaN</td>\n",
       "      <td>NaN</td>\n",
       "      <td>10.0</td>\n",
       "      <td>8.0</td>\n",
       "      <td>8.0</td>\n",
       "      <td>NaN</td>\n",
       "      <td>...</td>\n",
       "      <td>NaN</td>\n",
       "      <td>NaN</td>\n",
       "      <td>NaN</td>\n",
       "      <td>NaN</td>\n",
       "      <td>NaN</td>\n",
       "      <td>NaN</td>\n",
       "      <td>NaN</td>\n",
       "      <td>NaN</td>\n",
       "      <td>NaN</td>\n",
       "      <td>NaN</td>\n",
       "    </tr>\n",
       "    <tr>\n",
       "      <th>4</th>\n",
       "      <td>NaN</td>\n",
       "      <td>NaN</td>\n",
       "      <td>0.0</td>\n",
       "      <td>NaN</td>\n",
       "      <td>NaN</td>\n",
       "      <td>0.0</td>\n",
       "      <td>NaN</td>\n",
       "      <td>NaN</td>\n",
       "      <td>0.0</td>\n",
       "      <td>NaN</td>\n",
       "      <td>...</td>\n",
       "      <td>NaN</td>\n",
       "      <td>0.0</td>\n",
       "      <td>NaN</td>\n",
       "      <td>NaN</td>\n",
       "      <td>0.0</td>\n",
       "      <td>NaN</td>\n",
       "      <td>NaN</td>\n",
       "      <td>NaN</td>\n",
       "      <td>NaN</td>\n",
       "      <td>NaN</td>\n",
       "    </tr>\n",
       "    <tr>\n",
       "      <th>5</th>\n",
       "      <td>3.0</td>\n",
       "      <td>NaN</td>\n",
       "      <td>NaN</td>\n",
       "      <td>4.0</td>\n",
       "      <td>8.0</td>\n",
       "      <td>3.0</td>\n",
       "      <td>7.0</td>\n",
       "      <td>NaN</td>\n",
       "      <td>4.0</td>\n",
       "      <td>2.0</td>\n",
       "      <td>...</td>\n",
       "      <td>3.0</td>\n",
       "      <td>8.0</td>\n",
       "      <td>NaN</td>\n",
       "      <td>NaN</td>\n",
       "      <td>5.0</td>\n",
       "      <td>3.0</td>\n",
       "      <td>NaN</td>\n",
       "      <td>1.0</td>\n",
       "      <td>1.0</td>\n",
       "      <td>1.0</td>\n",
       "    </tr>\n",
       "  </tbody>\n",
       "</table>\n",
       "<p>5 rows × 172 columns</p>\n",
       "</div>"
      ],
      "text/plain": [
       "name     Accel World  Air  Air Gear  Akame ga Kill!  Akira  Angel Beats!  \\\n",
       "user_id                                                                    \n",
       "1                0.0  NaN       NaN             0.0    NaN           0.0   \n",
       "2                NaN  NaN       NaN             NaN    NaN           NaN   \n",
       "3                7.0  NaN       NaN             8.0    NaN           NaN   \n",
       "4                NaN  NaN       0.0             NaN    NaN           0.0   \n",
       "5                3.0  NaN       NaN             4.0    8.0           3.0   \n",
       "\n",
       "name     Ano Hi Mita Hana no Namae wo Bokutachi wa Mada Shiranai.  Another  \\\n",
       "user_id                                                                      \n",
       "1                                                      NaN             NaN   \n",
       "2                                                      NaN             NaN   \n",
       "3                                                     10.0             8.0   \n",
       "4                                                      NaN             NaN   \n",
       "5                                                      7.0             NaN   \n",
       "\n",
       "name     Ao no Exorcist  B Gata H Kei  ...  Toradora!  Trigun  Vampire Knight  \\\n",
       "user_id                                ...                                      \n",
       "1                   0.0           NaN  ...        0.0     NaN             NaN   \n",
       "2                   NaN           NaN  ...        NaN     NaN             NaN   \n",
       "3                   8.0           NaN  ...        NaN     NaN             NaN   \n",
       "4                   0.0           NaN  ...        NaN     0.0             NaN   \n",
       "5                   4.0           2.0  ...        3.0     8.0             NaN   \n",
       "\n",
       "name     Vampire Knight Guilty  \\\n",
       "user_id                          \n",
       "1                          NaN   \n",
       "2                          NaN   \n",
       "3                          NaN   \n",
       "4                          NaN   \n",
       "5                          NaN   \n",
       "\n",
       "name     Watashi ga Motenai no wa Dou Kangaetemo Omaera ga Warui!  \\\n",
       "user_id                                                             \n",
       "1                                                      NaN          \n",
       "2                                                      NaN          \n",
       "3                                                      NaN          \n",
       "4                                                      0.0          \n",
       "5                                                      5.0          \n",
       "\n",
       "name     Yahari Ore no Seishun Love Comedy wa Machigatteiru.  \\\n",
       "user_id                                                        \n",
       "1                                                      0.0     \n",
       "2                                                      NaN     \n",
       "3                                                      NaN     \n",
       "4                                                      NaN     \n",
       "5                                                      3.0     \n",
       "\n",
       "name     Zankyou no Terror  Zero no Tsukaima  \\\n",
       "user_id                                        \n",
       "1                      NaN               NaN   \n",
       "2                      NaN               NaN   \n",
       "3                      NaN               NaN   \n",
       "4                      NaN               NaN   \n",
       "5                      NaN               1.0   \n",
       "\n",
       "name     Zero no Tsukaima: Futatsuki no Kishi  \\\n",
       "user_id                                         \n",
       "1                                         NaN   \n",
       "2                                         NaN   \n",
       "3                                         NaN   \n",
       "4                                         NaN   \n",
       "5                                         1.0   \n",
       "\n",
       "name     Zero no Tsukaima: Princesses no Rondo  \n",
       "user_id                                         \n",
       "1                                          NaN  \n",
       "2                                          NaN  \n",
       "3                                          NaN  \n",
       "4                                          NaN  \n",
       "5                                          1.0  \n",
       "\n",
       "[5 rows x 172 columns]"
      ]
     },
     "execution_count": 12,
     "metadata": {},
     "output_type": "execute_result"
    }
   ],
   "source": [
    "pivottable.head()"
   ]
  },
  {
   "cell_type": "code",
   "execution_count": 13,
   "metadata": {},
   "outputs": [
    {
     "data": {
      "text/html": [
       "<div>\n",
       "<style scoped>\n",
       "    .dataframe tbody tr th:only-of-type {\n",
       "        vertical-align: middle;\n",
       "    }\n",
       "\n",
       "    .dataframe tbody tr th {\n",
       "        vertical-align: top;\n",
       "    }\n",
       "\n",
       "    .dataframe thead th {\n",
       "        text-align: right;\n",
       "    }\n",
       "</style>\n",
       "<table border=\"1\" class=\"dataframe\">\n",
       "  <thead>\n",
       "    <tr style=\"text-align: right;\">\n",
       "      <th>name</th>\n",
       "      <th>Accel World</th>\n",
       "      <th>Air</th>\n",
       "      <th>Air Gear</th>\n",
       "      <th>Akame ga Kill!</th>\n",
       "      <th>Akira</th>\n",
       "      <th>Angel Beats!</th>\n",
       "      <th>Ano Hi Mita Hana no Namae wo Bokutachi wa Mada Shiranai.</th>\n",
       "      <th>Another</th>\n",
       "      <th>Ao no Exorcist</th>\n",
       "      <th>B Gata H Kei</th>\n",
       "      <th>...</th>\n",
       "      <th>Toradora!</th>\n",
       "      <th>Trigun</th>\n",
       "      <th>Vampire Knight</th>\n",
       "      <th>Vampire Knight Guilty</th>\n",
       "      <th>Watashi ga Motenai no wa Dou Kangaetemo Omaera ga Warui!</th>\n",
       "      <th>Yahari Ore no Seishun Love Comedy wa Machigatteiru.</th>\n",
       "      <th>Zankyou no Terror</th>\n",
       "      <th>Zero no Tsukaima</th>\n",
       "      <th>Zero no Tsukaima: Futatsuki no Kishi</th>\n",
       "      <th>Zero no Tsukaima: Princesses no Rondo</th>\n",
       "    </tr>\n",
       "    <tr>\n",
       "      <th>user_id</th>\n",
       "      <th></th>\n",
       "      <th></th>\n",
       "      <th></th>\n",
       "      <th></th>\n",
       "      <th></th>\n",
       "      <th></th>\n",
       "      <th></th>\n",
       "      <th></th>\n",
       "      <th></th>\n",
       "      <th></th>\n",
       "      <th></th>\n",
       "      <th></th>\n",
       "      <th></th>\n",
       "      <th></th>\n",
       "      <th></th>\n",
       "      <th></th>\n",
       "      <th></th>\n",
       "      <th></th>\n",
       "      <th></th>\n",
       "      <th></th>\n",
       "      <th></th>\n",
       "    </tr>\n",
       "  </thead>\n",
       "  <tbody>\n",
       "    <tr>\n",
       "      <th>1</th>\n",
       "      <td>0.0</td>\n",
       "      <td>0.0</td>\n",
       "      <td>0.0</td>\n",
       "      <td>0.0</td>\n",
       "      <td>0.0</td>\n",
       "      <td>0.0</td>\n",
       "      <td>0.0</td>\n",
       "      <td>0.0</td>\n",
       "      <td>0.0</td>\n",
       "      <td>0.0</td>\n",
       "      <td>...</td>\n",
       "      <td>0.0</td>\n",
       "      <td>0.0</td>\n",
       "      <td>0.0</td>\n",
       "      <td>0.0</td>\n",
       "      <td>0.0</td>\n",
       "      <td>0.0</td>\n",
       "      <td>0.0</td>\n",
       "      <td>0.0</td>\n",
       "      <td>0.0</td>\n",
       "      <td>0.0</td>\n",
       "    </tr>\n",
       "    <tr>\n",
       "      <th>2</th>\n",
       "      <td>0.0</td>\n",
       "      <td>0.0</td>\n",
       "      <td>0.0</td>\n",
       "      <td>0.0</td>\n",
       "      <td>0.0</td>\n",
       "      <td>0.0</td>\n",
       "      <td>0.0</td>\n",
       "      <td>0.0</td>\n",
       "      <td>0.0</td>\n",
       "      <td>0.0</td>\n",
       "      <td>...</td>\n",
       "      <td>0.0</td>\n",
       "      <td>0.0</td>\n",
       "      <td>0.0</td>\n",
       "      <td>0.0</td>\n",
       "      <td>0.0</td>\n",
       "      <td>0.0</td>\n",
       "      <td>0.0</td>\n",
       "      <td>0.0</td>\n",
       "      <td>0.0</td>\n",
       "      <td>0.0</td>\n",
       "    </tr>\n",
       "    <tr>\n",
       "      <th>3</th>\n",
       "      <td>7.0</td>\n",
       "      <td>0.0</td>\n",
       "      <td>0.0</td>\n",
       "      <td>8.0</td>\n",
       "      <td>0.0</td>\n",
       "      <td>0.0</td>\n",
       "      <td>10.0</td>\n",
       "      <td>8.0</td>\n",
       "      <td>8.0</td>\n",
       "      <td>0.0</td>\n",
       "      <td>...</td>\n",
       "      <td>0.0</td>\n",
       "      <td>0.0</td>\n",
       "      <td>0.0</td>\n",
       "      <td>0.0</td>\n",
       "      <td>0.0</td>\n",
       "      <td>0.0</td>\n",
       "      <td>0.0</td>\n",
       "      <td>0.0</td>\n",
       "      <td>0.0</td>\n",
       "      <td>0.0</td>\n",
       "    </tr>\n",
       "    <tr>\n",
       "      <th>4</th>\n",
       "      <td>0.0</td>\n",
       "      <td>0.0</td>\n",
       "      <td>0.0</td>\n",
       "      <td>0.0</td>\n",
       "      <td>0.0</td>\n",
       "      <td>0.0</td>\n",
       "      <td>0.0</td>\n",
       "      <td>0.0</td>\n",
       "      <td>0.0</td>\n",
       "      <td>0.0</td>\n",
       "      <td>...</td>\n",
       "      <td>0.0</td>\n",
       "      <td>0.0</td>\n",
       "      <td>0.0</td>\n",
       "      <td>0.0</td>\n",
       "      <td>0.0</td>\n",
       "      <td>0.0</td>\n",
       "      <td>0.0</td>\n",
       "      <td>0.0</td>\n",
       "      <td>0.0</td>\n",
       "      <td>0.0</td>\n",
       "    </tr>\n",
       "    <tr>\n",
       "      <th>5</th>\n",
       "      <td>3.0</td>\n",
       "      <td>0.0</td>\n",
       "      <td>0.0</td>\n",
       "      <td>4.0</td>\n",
       "      <td>8.0</td>\n",
       "      <td>3.0</td>\n",
       "      <td>7.0</td>\n",
       "      <td>0.0</td>\n",
       "      <td>4.0</td>\n",
       "      <td>2.0</td>\n",
       "      <td>...</td>\n",
       "      <td>3.0</td>\n",
       "      <td>8.0</td>\n",
       "      <td>0.0</td>\n",
       "      <td>0.0</td>\n",
       "      <td>5.0</td>\n",
       "      <td>3.0</td>\n",
       "      <td>0.0</td>\n",
       "      <td>1.0</td>\n",
       "      <td>1.0</td>\n",
       "      <td>1.0</td>\n",
       "    </tr>\n",
       "  </tbody>\n",
       "</table>\n",
       "<p>5 rows × 172 columns</p>\n",
       "</div>"
      ],
      "text/plain": [
       "name     Accel World  Air  Air Gear  Akame ga Kill!  Akira  Angel Beats!  \\\n",
       "user_id                                                                    \n",
       "1                0.0  0.0       0.0             0.0    0.0           0.0   \n",
       "2                0.0  0.0       0.0             0.0    0.0           0.0   \n",
       "3                7.0  0.0       0.0             8.0    0.0           0.0   \n",
       "4                0.0  0.0       0.0             0.0    0.0           0.0   \n",
       "5                3.0  0.0       0.0             4.0    8.0           3.0   \n",
       "\n",
       "name     Ano Hi Mita Hana no Namae wo Bokutachi wa Mada Shiranai.  Another  \\\n",
       "user_id                                                                      \n",
       "1                                                      0.0             0.0   \n",
       "2                                                      0.0             0.0   \n",
       "3                                                     10.0             8.0   \n",
       "4                                                      0.0             0.0   \n",
       "5                                                      7.0             0.0   \n",
       "\n",
       "name     Ao no Exorcist  B Gata H Kei  ...  Toradora!  Trigun  Vampire Knight  \\\n",
       "user_id                                ...                                      \n",
       "1                   0.0           0.0  ...        0.0     0.0             0.0   \n",
       "2                   0.0           0.0  ...        0.0     0.0             0.0   \n",
       "3                   8.0           0.0  ...        0.0     0.0             0.0   \n",
       "4                   0.0           0.0  ...        0.0     0.0             0.0   \n",
       "5                   4.0           2.0  ...        3.0     8.0             0.0   \n",
       "\n",
       "name     Vampire Knight Guilty  \\\n",
       "user_id                          \n",
       "1                          0.0   \n",
       "2                          0.0   \n",
       "3                          0.0   \n",
       "4                          0.0   \n",
       "5                          0.0   \n",
       "\n",
       "name     Watashi ga Motenai no wa Dou Kangaetemo Omaera ga Warui!  \\\n",
       "user_id                                                             \n",
       "1                                                      0.0          \n",
       "2                                                      0.0          \n",
       "3                                                      0.0          \n",
       "4                                                      0.0          \n",
       "5                                                      5.0          \n",
       "\n",
       "name     Yahari Ore no Seishun Love Comedy wa Machigatteiru.  \\\n",
       "user_id                                                        \n",
       "1                                                      0.0     \n",
       "2                                                      0.0     \n",
       "3                                                      0.0     \n",
       "4                                                      0.0     \n",
       "5                                                      3.0     \n",
       "\n",
       "name     Zankyou no Terror  Zero no Tsukaima  \\\n",
       "user_id                                        \n",
       "1                      0.0               0.0   \n",
       "2                      0.0               0.0   \n",
       "3                      0.0               0.0   \n",
       "4                      0.0               0.0   \n",
       "5                      0.0               1.0   \n",
       "\n",
       "name     Zero no Tsukaima: Futatsuki no Kishi  \\\n",
       "user_id                                         \n",
       "1                                         0.0   \n",
       "2                                         0.0   \n",
       "3                                         0.0   \n",
       "4                                         0.0   \n",
       "5                                         1.0   \n",
       "\n",
       "name     Zero no Tsukaima: Princesses no Rondo  \n",
       "user_id                                         \n",
       "1                                          0.0  \n",
       "2                                          0.0  \n",
       "3                                          0.0  \n",
       "4                                          0.0  \n",
       "5                                          1.0  \n",
       "\n",
       "[5 rows x 172 columns]"
      ]
     },
     "execution_count": 13,
     "metadata": {},
     "output_type": "execute_result"
    }
   ],
   "source": [
    "pivottable=pivottable.fillna(0)\n",
    "pivottable.head()"
   ]
  },
  {
   "cell_type": "code",
   "execution_count": 14,
   "metadata": {},
   "outputs": [
    {
     "data": {
      "text/plain": [
       "(172, 71666)"
      ]
     },
     "execution_count": 14,
     "metadata": {},
     "output_type": "execute_result"
    }
   ],
   "source": [
    "X=pivottable.values.T\n",
    "X.shape"
   ]
  },
  {
   "cell_type": "code",
   "execution_count": 15,
   "metadata": {},
   "outputs": [
    {
     "data": {
      "text/plain": [
       "(172, 12)"
      ]
     },
     "execution_count": 15,
     "metadata": {},
     "output_type": "execute_result"
    }
   ],
   "source": [
    "SVD= TruncatedSVD(n_components=12,random_state=17)\n",
    "matrix=SVD.fit_transform(X)\n",
    "matrix.shape"
   ]
  },
  {
   "cell_type": "code",
   "execution_count": 16,
   "metadata": {},
   "outputs": [
    {
     "data": {
      "text/plain": [
       "(172, 172)"
      ]
     },
     "execution_count": 16,
     "metadata": {},
     "output_type": "execute_result"
    }
   ],
   "source": [
    "# import warnings\n",
    "# warnings.filterwarnings(\"ignore\",category=RuntimeWarning)\n",
    "corr=np.corrcoef(matrix)\n",
    "corr.shape"
   ]
  },
  {
   "cell_type": "markdown",
   "metadata": {},
   "source": [
    "### Recommendation Example"
   ]
  },
  {
   "cell_type": "code",
   "execution_count": 92,
   "metadata": {},
   "outputs": [
    {
     "data": {
      "text/plain": [
       "47"
      ]
     },
     "execution_count": 92,
     "metadata": {},
     "output_type": "execute_result"
    }
   ],
   "source": [
    "val=pivottable.columns\n",
    "list_table=list(val)\n",
    "val1=list_table.index('Dragon Ball')\n",
    "val1"
   ]
  },
  {
   "cell_type": "code",
   "execution_count": 93,
   "metadata": {},
   "outputs": [
    {
     "name": "stdout",
     "output_type": "stream",
     "text": [
      "['Digimon Adventure', 'Dragon Ball GT', 'Dragon Ball Z', 'Pokemon']\n"
     ]
    }
   ],
   "source": [
    "print(list(val[(corr[val1]>0.8)&(corr[val1]<1)]))"
   ]
  },
  {
   "cell_type": "code",
   "execution_count": 94,
   "metadata": {},
   "outputs": [
    {
     "data": {
      "text/plain": [
       "66"
      ]
     },
     "execution_count": 94,
     "metadata": {},
     "output_type": "execute_result"
    }
   ],
   "source": [
    "val1=list_table.index('Fullmetal Alchemist')\n",
    "val1"
   ]
  },
  {
   "cell_type": "code",
   "execution_count": 95,
   "metadata": {},
   "outputs": [
    {
     "name": "stdout",
     "output_type": "stream",
     "text": [
      "['Air Gear', 'Bleach Movie 1: Memories of Nobody', 'Bleach Movie 2: The DiamondDust Rebellion - Mou Hitotsu no Hyourinmaru', 'Cowboy Bebop', 'Death Note', 'Fullmetal Alchemist: Brotherhood', 'Fullmetal Alchemist: The Conqueror of Shamballa', 'Great Teacher Onizuka', 'Hellsing', 'InuYasha', 'Naruto', 'Samurai Champloo', 'Soul Eater', 'Tengen Toppa Gurren Lagann', 'Trigun']\n"
     ]
    }
   ],
   "source": [
    "print(list(val[(corr[val1]>0.8)&(corr[val1]<1)]))"
   ]
  },
  {
   "cell_type": "code",
   "execution_count": 96,
   "metadata": {},
   "outputs": [
    {
     "data": {
      "text/plain": [
       "18"
      ]
     },
     "execution_count": 96,
     "metadata": {},
     "output_type": "execute_result"
    }
   ],
   "source": [
    "val1=list_table.index('Bleach')\n",
    "val1"
   ]
  },
  {
   "cell_type": "code",
   "execution_count": 97,
   "metadata": {},
   "outputs": [
    {
     "name": "stdout",
     "output_type": "stream",
     "text": [
      "['Ao no Exorcist', 'Bleach Movie 1: Memories of Nobody', 'Bleach Movie 2: The DiamondDust Rebellion - Mou Hitotsu no Hyourinmaru', 'Btooom!', 'D.Gray-man', 'Fairy Tail', 'Fullmetal Alchemist: Brotherhood', 'Hunter x Hunter (2011)', 'Kuroko no Basket', 'Magi: The Labyrinth of Magic', 'Naruto', 'Soul Eater']\n"
     ]
    }
   ],
   "source": [
    "print(list(val[(corr[val1]>0.8)&(corr[val1]<1)]))"
   ]
  },
  {
   "cell_type": "code",
   "execution_count": 98,
   "metadata": {},
   "outputs": [
    {
     "data": {
      "text/plain": [
       "43"
      ]
     },
     "execution_count": 98,
     "metadata": {},
     "output_type": "execute_result"
    }
   ],
   "source": [
    "val=pivottable.columns\n",
    "list_table=list(val)\n",
    "val1=list_table.index('Death Note')\n",
    "val1"
   ]
  },
  {
   "cell_type": "code",
   "execution_count": 99,
   "metadata": {},
   "outputs": [
    {
     "name": "stdout",
     "output_type": "stream",
     "text": [
      "['Fullmetal Alchemist', 'Fullmetal Alchemist: Brotherhood', 'Hunter x Hunter (2011)', 'Kill la Kill', 'Naruto', 'Shingeki no Kyojin', 'Soul Eater', 'Tengen Toppa Gurren Lagann']\n"
     ]
    }
   ],
   "source": [
    "print(list(val[(corr[val1]>0.8)&(corr[val1]<1)]))"
   ]
  },
  {
   "cell_type": "code",
   "execution_count": null,
   "metadata": {},
   "outputs": [],
   "source": []
  }
 ],
 "metadata": {
  "kernelspec": {
   "display_name": "Python 3",
   "language": "python",
   "name": "python3"
  },
  "language_info": {
   "codemirror_mode": {
    "name": "ipython",
    "version": 3
   },
   "file_extension": ".py",
   "mimetype": "text/x-python",
   "name": "python",
   "nbconvert_exporter": "python",
   "pygments_lexer": "ipython3",
   "version": "3.6.9"
  }
 },
 "nbformat": 4,
 "nbformat_minor": 4
}
